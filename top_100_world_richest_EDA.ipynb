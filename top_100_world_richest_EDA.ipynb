{
  "nbformat": 4,
  "nbformat_minor": 0,
  "metadata": {
    "colab": {
      "provenance": []
    },
    "kernelspec": {
      "name": "python3",
      "display_name": "Python 3"
    },
    "language_info": {
      "name": "python"
    }
  },
  "cells": [
    {
      "cell_type": "markdown",
      "source": [
        "## **About Dataset**\n",
        "## Introduction\n",
        "This dataset contains the top 100 richest people in the world based on their net worth. The dataset includes their rank, name, net worth, birthday, age, and nationality."
      ],
      "metadata": {
        "id": "Ku9SHuAmXNHN"
      }
    },
    {
      "cell_type": "markdown",
      "source": [
        "## Methodology\n",
        "This dataset was collected using web scraping (Beautiful Soup) on this website and this wikipedia"
      ],
      "metadata": {
        "id": "dbphkFqRXew2"
      }
    },
    {
      "cell_type": "markdown",
      "source": [
        "## **Table of content**\n",
        "\n",
        "1.  Library\n",
        "2.  Import Data\n",
        "3.  Data Summary\n",
        "4.  Exploratory Data Analysis\n",
        "*  Nationality Distribution\n",
        "*  Top 10 Richest Nationality\n",
        "*  Age and Generation Distribution\n",
        "*  Month Distribution\n",
        "*  Top 25 Richest - Birth of Month\n",
        "*  Day Distribution\n",
        "*  Word Length Distribution\n",
        "5.  BONUS\n",
        "6.  Reference\n"
      ],
      "metadata": {
        "id": "wnE4YjJZ8Blw"
      }
    },
    {
      "cell_type": "markdown",
      "source": [
        "## Importing Libraries"
      ],
      "metadata": {
        "id": "48NrezWE9kpw"
      }
    },
    {
      "cell_type": "code",
      "source": [
        "import numpy as np # linear algebra\n",
        "import pandas as pd # data processing, CSV file I/O (e.g. pd.read_csv)\n",
        "\n",
        "#remove warning texts\n",
        "import pandas as pd\n",
        "pd.options.mode.chained_assignment = None\n",
        "\n",
        "#data visualization\n",
        "import seaborn as sns\n",
        "import matplotlib.pyplot as plt"
      ],
      "metadata": {
        "id": "BD2hADlW8bWd"
      },
      "execution_count": null,
      "outputs": []
    },
    {
      "cell_type": "markdown",
      "source": [
        "## Import Data"
      ],
      "metadata": {
        "id": "0GDP-gAO9xZO"
      }
    },
    {
      "cell_type": "code",
      "source": [
        "df=pd.read_csv('/content/top_100_richest.csv')"
      ],
      "metadata": {
        "id": "mUhwMs1c9s15"
      },
      "execution_count": null,
      "outputs": []
    },
    {
      "cell_type": "markdown",
      "source": [
        "## Data Summary"
      ],
      "metadata": {
        "id": "HWnd3Rgo-U-y"
      }
    },
    {
      "cell_type": "code",
      "source": [
        "df.head()"
      ],
      "metadata": {
        "colab": {
          "base_uri": "https://localhost:8080/",
          "height": 206
        },
        "id": "zBL29uF3-Q-A",
        "outputId": "dda42017-29b1-4ea3-f86d-7d1c71538fff"
      },
      "execution_count": null,
      "outputs": [
        {
          "output_type": "execute_result",
          "data": {
            "text/plain": [
              "   rank             name     net_worth       bday   age  \\\n",
              "0     1        Elon Musk  $240 Billion  28-Jun-71  51.0   \n",
              "1     2       Jeff Bezos  $150 Billion  12-Jan-64  58.0   \n",
              "2     3     Gautam Adani  $138 Billion  24-Jun-62  60.0   \n",
              "3     4  Bernard Arnault  $135 Billion   5-Mar-49  73.0   \n",
              "4     5       Bill Gates  $118 Billion  28-Oct-55  66.0   \n",
              "\n",
              "                nationality  \n",
              "0              South Africa  \n",
              "1  United States of America  \n",
              "2                     India  \n",
              "3                    France  \n",
              "4  United States of America  "
            ],
            "text/html": [
              "\n",
              "  <div id=\"df-1eb1426a-cbd1-4f7b-8a15-c2a30b64faa2\">\n",
              "    <div class=\"colab-df-container\">\n",
              "      <div>\n",
              "<style scoped>\n",
              "    .dataframe tbody tr th:only-of-type {\n",
              "        vertical-align: middle;\n",
              "    }\n",
              "\n",
              "    .dataframe tbody tr th {\n",
              "        vertical-align: top;\n",
              "    }\n",
              "\n",
              "    .dataframe thead th {\n",
              "        text-align: right;\n",
              "    }\n",
              "</style>\n",
              "<table border=\"1\" class=\"dataframe\">\n",
              "  <thead>\n",
              "    <tr style=\"text-align: right;\">\n",
              "      <th></th>\n",
              "      <th>rank</th>\n",
              "      <th>name</th>\n",
              "      <th>net_worth</th>\n",
              "      <th>bday</th>\n",
              "      <th>age</th>\n",
              "      <th>nationality</th>\n",
              "    </tr>\n",
              "  </thead>\n",
              "  <tbody>\n",
              "    <tr>\n",
              "      <th>0</th>\n",
              "      <td>1</td>\n",
              "      <td>Elon Musk</td>\n",
              "      <td>$240 Billion</td>\n",
              "      <td>28-Jun-71</td>\n",
              "      <td>51.0</td>\n",
              "      <td>South Africa</td>\n",
              "    </tr>\n",
              "    <tr>\n",
              "      <th>1</th>\n",
              "      <td>2</td>\n",
              "      <td>Jeff Bezos</td>\n",
              "      <td>$150 Billion</td>\n",
              "      <td>12-Jan-64</td>\n",
              "      <td>58.0</td>\n",
              "      <td>United States of America</td>\n",
              "    </tr>\n",
              "    <tr>\n",
              "      <th>2</th>\n",
              "      <td>3</td>\n",
              "      <td>Gautam Adani</td>\n",
              "      <td>$138 Billion</td>\n",
              "      <td>24-Jun-62</td>\n",
              "      <td>60.0</td>\n",
              "      <td>India</td>\n",
              "    </tr>\n",
              "    <tr>\n",
              "      <th>3</th>\n",
              "      <td>4</td>\n",
              "      <td>Bernard Arnault</td>\n",
              "      <td>$135 Billion</td>\n",
              "      <td>5-Mar-49</td>\n",
              "      <td>73.0</td>\n",
              "      <td>France</td>\n",
              "    </tr>\n",
              "    <tr>\n",
              "      <th>4</th>\n",
              "      <td>5</td>\n",
              "      <td>Bill Gates</td>\n",
              "      <td>$118 Billion</td>\n",
              "      <td>28-Oct-55</td>\n",
              "      <td>66.0</td>\n",
              "      <td>United States of America</td>\n",
              "    </tr>\n",
              "  </tbody>\n",
              "</table>\n",
              "</div>\n",
              "      <button class=\"colab-df-convert\" onclick=\"convertToInteractive('df-1eb1426a-cbd1-4f7b-8a15-c2a30b64faa2')\"\n",
              "              title=\"Convert this dataframe to an interactive table.\"\n",
              "              style=\"display:none;\">\n",
              "        \n",
              "  <svg xmlns=\"http://www.w3.org/2000/svg\" height=\"24px\"viewBox=\"0 0 24 24\"\n",
              "       width=\"24px\">\n",
              "    <path d=\"M0 0h24v24H0V0z\" fill=\"none\"/>\n",
              "    <path d=\"M18.56 5.44l.94 2.06.94-2.06 2.06-.94-2.06-.94-.94-2.06-.94 2.06-2.06.94zm-11 1L8.5 8.5l.94-2.06 2.06-.94-2.06-.94L8.5 2.5l-.94 2.06-2.06.94zm10 10l.94 2.06.94-2.06 2.06-.94-2.06-.94-.94-2.06-.94 2.06-2.06.94z\"/><path d=\"M17.41 7.96l-1.37-1.37c-.4-.4-.92-.59-1.43-.59-.52 0-1.04.2-1.43.59L10.3 9.45l-7.72 7.72c-.78.78-.78 2.05 0 2.83L4 21.41c.39.39.9.59 1.41.59.51 0 1.02-.2 1.41-.59l7.78-7.78 2.81-2.81c.8-.78.8-2.07 0-2.86zM5.41 20L4 18.59l7.72-7.72 1.47 1.35L5.41 20z\"/>\n",
              "  </svg>\n",
              "      </button>\n",
              "      \n",
              "  <style>\n",
              "    .colab-df-container {\n",
              "      display:flex;\n",
              "      flex-wrap:wrap;\n",
              "      gap: 12px;\n",
              "    }\n",
              "\n",
              "    .colab-df-convert {\n",
              "      background-color: #E8F0FE;\n",
              "      border: none;\n",
              "      border-radius: 50%;\n",
              "      cursor: pointer;\n",
              "      display: none;\n",
              "      fill: #1967D2;\n",
              "      height: 32px;\n",
              "      padding: 0 0 0 0;\n",
              "      width: 32px;\n",
              "    }\n",
              "\n",
              "    .colab-df-convert:hover {\n",
              "      background-color: #E2EBFA;\n",
              "      box-shadow: 0px 1px 2px rgba(60, 64, 67, 0.3), 0px 1px 3px 1px rgba(60, 64, 67, 0.15);\n",
              "      fill: #174EA6;\n",
              "    }\n",
              "\n",
              "    [theme=dark] .colab-df-convert {\n",
              "      background-color: #3B4455;\n",
              "      fill: #D2E3FC;\n",
              "    }\n",
              "\n",
              "    [theme=dark] .colab-df-convert:hover {\n",
              "      background-color: #434B5C;\n",
              "      box-shadow: 0px 1px 3px 1px rgba(0, 0, 0, 0.15);\n",
              "      filter: drop-shadow(0px 1px 2px rgba(0, 0, 0, 0.3));\n",
              "      fill: #FFFFFF;\n",
              "    }\n",
              "  </style>\n",
              "\n",
              "      <script>\n",
              "        const buttonEl =\n",
              "          document.querySelector('#df-1eb1426a-cbd1-4f7b-8a15-c2a30b64faa2 button.colab-df-convert');\n",
              "        buttonEl.style.display =\n",
              "          google.colab.kernel.accessAllowed ? 'block' : 'none';\n",
              "\n",
              "        async function convertToInteractive(key) {\n",
              "          const element = document.querySelector('#df-1eb1426a-cbd1-4f7b-8a15-c2a30b64faa2');\n",
              "          const dataTable =\n",
              "            await google.colab.kernel.invokeFunction('convertToInteractive',\n",
              "                                                     [key], {});\n",
              "          if (!dataTable) return;\n",
              "\n",
              "          const docLinkHtml = 'Like what you see? Visit the ' +\n",
              "            '<a target=\"_blank\" href=https://colab.research.google.com/notebooks/data_table.ipynb>data table notebook</a>'\n",
              "            + ' to learn more about interactive tables.';\n",
              "          element.innerHTML = '';\n",
              "          dataTable['output_type'] = 'display_data';\n",
              "          await google.colab.output.renderOutput(dataTable, element);\n",
              "          const docLink = document.createElement('div');\n",
              "          docLink.innerHTML = docLinkHtml;\n",
              "          element.appendChild(docLink);\n",
              "        }\n",
              "      </script>\n",
              "    </div>\n",
              "  </div>\n",
              "  "
            ]
          },
          "metadata": {},
          "execution_count": 4
        }
      ]
    },
    {
      "cell_type": "code",
      "source": [
        "df.info()"
      ],
      "metadata": {
        "colab": {
          "base_uri": "https://localhost:8080/"
        },
        "id": "_6Qoup07-ez0",
        "outputId": "d6894373-3c35-426b-cd97-b659e89b61e9"
      },
      "execution_count": null,
      "outputs": [
        {
          "output_type": "stream",
          "name": "stdout",
          "text": [
            "<class 'pandas.core.frame.DataFrame'>\n",
            "RangeIndex: 100 entries, 0 to 99\n",
            "Data columns (total 6 columns):\n",
            " #   Column       Non-Null Count  Dtype  \n",
            "---  ------       --------------  -----  \n",
            " 0   rank         100 non-null    int64  \n",
            " 1   name         100 non-null    object \n",
            " 2   net_worth    100 non-null    object \n",
            " 3   bday         94 non-null     object \n",
            " 4   age          95 non-null     float64\n",
            " 5   nationality  100 non-null    object \n",
            "dtypes: float64(1), int64(1), object(4)\n",
            "memory usage: 4.8+ KB\n"
          ]
        }
      ]
    },
    {
      "cell_type": "markdown",
      "source": [
        "There are two missing values\n",
        "\n",
        "\n",
        "*   birthday = 94/100\n",
        "*   age = 95/100\n",
        "\n"
      ],
      "metadata": {
        "id": "k-HlZFVb-rmA"
      }
    },
    {
      "cell_type": "code",
      "source": [
        "df.bday.isnull().sum()"
      ],
      "metadata": {
        "colab": {
          "base_uri": "https://localhost:8080/"
        },
        "id": "d92sSR_Q-ih7",
        "outputId": "2103d061-68c4-4d44-9652-872ae00b7553"
      },
      "execution_count": null,
      "outputs": [
        {
          "output_type": "execute_result",
          "data": {
            "text/plain": [
              "6"
            ]
          },
          "metadata": {},
          "execution_count": 6
        }
      ]
    },
    {
      "cell_type": "code",
      "source": [
        "df[df.bday.isnull()]"
      ],
      "metadata": {
        "colab": {
          "base_uri": "https://localhost:8080/",
          "height": 238
        },
        "id": "4QqPVZKP_P3z",
        "outputId": "fcfd8c0d-7d3b-4943-939a-403a6116ea10"
      },
      "execution_count": null,
      "outputs": [
        {
          "output_type": "execute_result",
          "data": {
            "text/plain": [
              "    rank                       name    net_worth bday   age  \\\n",
              "10    11  Alain & Gerard Wertheimer  $90 Billion  NaN   NaN   \n",
              "20    21             Zhong Shanshan  $68 Billion  NaN   NaN   \n",
              "65    66                Qin Yinglin  $22 Billion  NaN  57.0   \n",
              "67    68                   Wang Wei  $22 Billion  NaN  51.0   \n",
              "87    88       David & Simon Reuben  $18 Billion  NaN   NaN   \n",
              "90    91               Lukas Walton  $18 Billion  NaN  36.0   \n",
              "\n",
              "                 nationality  \n",
              "10                    France  \n",
              "20                     China  \n",
              "65                     China  \n",
              "67                     China  \n",
              "87            United Kingdom  \n",
              "90  United States of America  "
            ],
            "text/html": [
              "\n",
              "  <div id=\"df-f9ca77e0-8196-4010-8aba-be149557eff4\">\n",
              "    <div class=\"colab-df-container\">\n",
              "      <div>\n",
              "<style scoped>\n",
              "    .dataframe tbody tr th:only-of-type {\n",
              "        vertical-align: middle;\n",
              "    }\n",
              "\n",
              "    .dataframe tbody tr th {\n",
              "        vertical-align: top;\n",
              "    }\n",
              "\n",
              "    .dataframe thead th {\n",
              "        text-align: right;\n",
              "    }\n",
              "</style>\n",
              "<table border=\"1\" class=\"dataframe\">\n",
              "  <thead>\n",
              "    <tr style=\"text-align: right;\">\n",
              "      <th></th>\n",
              "      <th>rank</th>\n",
              "      <th>name</th>\n",
              "      <th>net_worth</th>\n",
              "      <th>bday</th>\n",
              "      <th>age</th>\n",
              "      <th>nationality</th>\n",
              "    </tr>\n",
              "  </thead>\n",
              "  <tbody>\n",
              "    <tr>\n",
              "      <th>10</th>\n",
              "      <td>11</td>\n",
              "      <td>Alain &amp; Gerard Wertheimer</td>\n",
              "      <td>$90 Billion</td>\n",
              "      <td>NaN</td>\n",
              "      <td>NaN</td>\n",
              "      <td>France</td>\n",
              "    </tr>\n",
              "    <tr>\n",
              "      <th>20</th>\n",
              "      <td>21</td>\n",
              "      <td>Zhong Shanshan</td>\n",
              "      <td>$68 Billion</td>\n",
              "      <td>NaN</td>\n",
              "      <td>NaN</td>\n",
              "      <td>China</td>\n",
              "    </tr>\n",
              "    <tr>\n",
              "      <th>65</th>\n",
              "      <td>66</td>\n",
              "      <td>Qin Yinglin</td>\n",
              "      <td>$22 Billion</td>\n",
              "      <td>NaN</td>\n",
              "      <td>57.0</td>\n",
              "      <td>China</td>\n",
              "    </tr>\n",
              "    <tr>\n",
              "      <th>67</th>\n",
              "      <td>68</td>\n",
              "      <td>Wang Wei</td>\n",
              "      <td>$22 Billion</td>\n",
              "      <td>NaN</td>\n",
              "      <td>51.0</td>\n",
              "      <td>China</td>\n",
              "    </tr>\n",
              "    <tr>\n",
              "      <th>87</th>\n",
              "      <td>88</td>\n",
              "      <td>David &amp; Simon Reuben</td>\n",
              "      <td>$18 Billion</td>\n",
              "      <td>NaN</td>\n",
              "      <td>NaN</td>\n",
              "      <td>United Kingdom</td>\n",
              "    </tr>\n",
              "    <tr>\n",
              "      <th>90</th>\n",
              "      <td>91</td>\n",
              "      <td>Lukas Walton</td>\n",
              "      <td>$18 Billion</td>\n",
              "      <td>NaN</td>\n",
              "      <td>36.0</td>\n",
              "      <td>United States of America</td>\n",
              "    </tr>\n",
              "  </tbody>\n",
              "</table>\n",
              "</div>\n",
              "      <button class=\"colab-df-convert\" onclick=\"convertToInteractive('df-f9ca77e0-8196-4010-8aba-be149557eff4')\"\n",
              "              title=\"Convert this dataframe to an interactive table.\"\n",
              "              style=\"display:none;\">\n",
              "        \n",
              "  <svg xmlns=\"http://www.w3.org/2000/svg\" height=\"24px\"viewBox=\"0 0 24 24\"\n",
              "       width=\"24px\">\n",
              "    <path d=\"M0 0h24v24H0V0z\" fill=\"none\"/>\n",
              "    <path d=\"M18.56 5.44l.94 2.06.94-2.06 2.06-.94-2.06-.94-.94-2.06-.94 2.06-2.06.94zm-11 1L8.5 8.5l.94-2.06 2.06-.94-2.06-.94L8.5 2.5l-.94 2.06-2.06.94zm10 10l.94 2.06.94-2.06 2.06-.94-2.06-.94-.94-2.06-.94 2.06-2.06.94z\"/><path d=\"M17.41 7.96l-1.37-1.37c-.4-.4-.92-.59-1.43-.59-.52 0-1.04.2-1.43.59L10.3 9.45l-7.72 7.72c-.78.78-.78 2.05 0 2.83L4 21.41c.39.39.9.59 1.41.59.51 0 1.02-.2 1.41-.59l7.78-7.78 2.81-2.81c.8-.78.8-2.07 0-2.86zM5.41 20L4 18.59l7.72-7.72 1.47 1.35L5.41 20z\"/>\n",
              "  </svg>\n",
              "      </button>\n",
              "      \n",
              "  <style>\n",
              "    .colab-df-container {\n",
              "      display:flex;\n",
              "      flex-wrap:wrap;\n",
              "      gap: 12px;\n",
              "    }\n",
              "\n",
              "    .colab-df-convert {\n",
              "      background-color: #E8F0FE;\n",
              "      border: none;\n",
              "      border-radius: 50%;\n",
              "      cursor: pointer;\n",
              "      display: none;\n",
              "      fill: #1967D2;\n",
              "      height: 32px;\n",
              "      padding: 0 0 0 0;\n",
              "      width: 32px;\n",
              "    }\n",
              "\n",
              "    .colab-df-convert:hover {\n",
              "      background-color: #E2EBFA;\n",
              "      box-shadow: 0px 1px 2px rgba(60, 64, 67, 0.3), 0px 1px 3px 1px rgba(60, 64, 67, 0.15);\n",
              "      fill: #174EA6;\n",
              "    }\n",
              "\n",
              "    [theme=dark] .colab-df-convert {\n",
              "      background-color: #3B4455;\n",
              "      fill: #D2E3FC;\n",
              "    }\n",
              "\n",
              "    [theme=dark] .colab-df-convert:hover {\n",
              "      background-color: #434B5C;\n",
              "      box-shadow: 0px 1px 3px 1px rgba(0, 0, 0, 0.15);\n",
              "      filter: drop-shadow(0px 1px 2px rgba(0, 0, 0, 0.3));\n",
              "      fill: #FFFFFF;\n",
              "    }\n",
              "  </style>\n",
              "\n",
              "      <script>\n",
              "        const buttonEl =\n",
              "          document.querySelector('#df-f9ca77e0-8196-4010-8aba-be149557eff4 button.colab-df-convert');\n",
              "        buttonEl.style.display =\n",
              "          google.colab.kernel.accessAllowed ? 'block' : 'none';\n",
              "\n",
              "        async function convertToInteractive(key) {\n",
              "          const element = document.querySelector('#df-f9ca77e0-8196-4010-8aba-be149557eff4');\n",
              "          const dataTable =\n",
              "            await google.colab.kernel.invokeFunction('convertToInteractive',\n",
              "                                                     [key], {});\n",
              "          if (!dataTable) return;\n",
              "\n",
              "          const docLinkHtml = 'Like what you see? Visit the ' +\n",
              "            '<a target=\"_blank\" href=https://colab.research.google.com/notebooks/data_table.ipynb>data table notebook</a>'\n",
              "            + ' to learn more about interactive tables.';\n",
              "          element.innerHTML = '';\n",
              "          dataTable['output_type'] = 'display_data';\n",
              "          await google.colab.output.renderOutput(dataTable, element);\n",
              "          const docLink = document.createElement('div');\n",
              "          docLink.innerHTML = docLinkHtml;\n",
              "          element.appendChild(docLink);\n",
              "        }\n",
              "      </script>\n",
              "    </div>\n",
              "  </div>\n",
              "  "
            ]
          },
          "metadata": {},
          "execution_count": 7
        }
      ]
    },
    {
      "cell_type": "markdown",
      "source": [
        "As Qin is 57, Wang is and Lukas is 36, we're filling up the missing \"bday\" attribute by year."
      ],
      "metadata": {
        "id": "dVTNqpIHA9Xc"
      }
    },
    {
      "cell_type": "code",
      "source": [
        "df.bday = [2022-df.age[index] if str(bday)=='nan' else bday for index,bday in enumerate(df.bday)]"
      ],
      "metadata": {
        "id": "kQcqhqSgAc5F"
      },
      "execution_count": null,
      "outputs": []
    },
    {
      "cell_type": "code",
      "source": [
        "df[df.bday.isnull()]"
      ],
      "metadata": {
        "colab": {
          "base_uri": "https://localhost:8080/",
          "height": 143
        },
        "id": "D0UhSL8rBPu4",
        "outputId": "1fa5fa2d-17aa-4aa5-98b0-3197b55cbe5d"
      },
      "execution_count": null,
      "outputs": [
        {
          "output_type": "execute_result",
          "data": {
            "text/plain": [
              "    rank                       name    net_worth bday  age     nationality\n",
              "10    11  Alain & Gerard Wertheimer  $90 Billion  NaN  NaN          France\n",
              "20    21             Zhong Shanshan  $68 Billion  NaN  NaN           China\n",
              "87    88       David & Simon Reuben  $18 Billion  NaN  NaN  United Kingdom"
            ],
            "text/html": [
              "\n",
              "  <div id=\"df-1fedb869-d9d3-4aa5-b10f-30036cef44de\">\n",
              "    <div class=\"colab-df-container\">\n",
              "      <div>\n",
              "<style scoped>\n",
              "    .dataframe tbody tr th:only-of-type {\n",
              "        vertical-align: middle;\n",
              "    }\n",
              "\n",
              "    .dataframe tbody tr th {\n",
              "        vertical-align: top;\n",
              "    }\n",
              "\n",
              "    .dataframe thead th {\n",
              "        text-align: right;\n",
              "    }\n",
              "</style>\n",
              "<table border=\"1\" class=\"dataframe\">\n",
              "  <thead>\n",
              "    <tr style=\"text-align: right;\">\n",
              "      <th></th>\n",
              "      <th>rank</th>\n",
              "      <th>name</th>\n",
              "      <th>net_worth</th>\n",
              "      <th>bday</th>\n",
              "      <th>age</th>\n",
              "      <th>nationality</th>\n",
              "    </tr>\n",
              "  </thead>\n",
              "  <tbody>\n",
              "    <tr>\n",
              "      <th>10</th>\n",
              "      <td>11</td>\n",
              "      <td>Alain &amp; Gerard Wertheimer</td>\n",
              "      <td>$90 Billion</td>\n",
              "      <td>NaN</td>\n",
              "      <td>NaN</td>\n",
              "      <td>France</td>\n",
              "    </tr>\n",
              "    <tr>\n",
              "      <th>20</th>\n",
              "      <td>21</td>\n",
              "      <td>Zhong Shanshan</td>\n",
              "      <td>$68 Billion</td>\n",
              "      <td>NaN</td>\n",
              "      <td>NaN</td>\n",
              "      <td>China</td>\n",
              "    </tr>\n",
              "    <tr>\n",
              "      <th>87</th>\n",
              "      <td>88</td>\n",
              "      <td>David &amp; Simon Reuben</td>\n",
              "      <td>$18 Billion</td>\n",
              "      <td>NaN</td>\n",
              "      <td>NaN</td>\n",
              "      <td>United Kingdom</td>\n",
              "    </tr>\n",
              "  </tbody>\n",
              "</table>\n",
              "</div>\n",
              "      <button class=\"colab-df-convert\" onclick=\"convertToInteractive('df-1fedb869-d9d3-4aa5-b10f-30036cef44de')\"\n",
              "              title=\"Convert this dataframe to an interactive table.\"\n",
              "              style=\"display:none;\">\n",
              "        \n",
              "  <svg xmlns=\"http://www.w3.org/2000/svg\" height=\"24px\"viewBox=\"0 0 24 24\"\n",
              "       width=\"24px\">\n",
              "    <path d=\"M0 0h24v24H0V0z\" fill=\"none\"/>\n",
              "    <path d=\"M18.56 5.44l.94 2.06.94-2.06 2.06-.94-2.06-.94-.94-2.06-.94 2.06-2.06.94zm-11 1L8.5 8.5l.94-2.06 2.06-.94-2.06-.94L8.5 2.5l-.94 2.06-2.06.94zm10 10l.94 2.06.94-2.06 2.06-.94-2.06-.94-.94-2.06-.94 2.06-2.06.94z\"/><path d=\"M17.41 7.96l-1.37-1.37c-.4-.4-.92-.59-1.43-.59-.52 0-1.04.2-1.43.59L10.3 9.45l-7.72 7.72c-.78.78-.78 2.05 0 2.83L4 21.41c.39.39.9.59 1.41.59.51 0 1.02-.2 1.41-.59l7.78-7.78 2.81-2.81c.8-.78.8-2.07 0-2.86zM5.41 20L4 18.59l7.72-7.72 1.47 1.35L5.41 20z\"/>\n",
              "  </svg>\n",
              "      </button>\n",
              "      \n",
              "  <style>\n",
              "    .colab-df-container {\n",
              "      display:flex;\n",
              "      flex-wrap:wrap;\n",
              "      gap: 12px;\n",
              "    }\n",
              "\n",
              "    .colab-df-convert {\n",
              "      background-color: #E8F0FE;\n",
              "      border: none;\n",
              "      border-radius: 50%;\n",
              "      cursor: pointer;\n",
              "      display: none;\n",
              "      fill: #1967D2;\n",
              "      height: 32px;\n",
              "      padding: 0 0 0 0;\n",
              "      width: 32px;\n",
              "    }\n",
              "\n",
              "    .colab-df-convert:hover {\n",
              "      background-color: #E2EBFA;\n",
              "      box-shadow: 0px 1px 2px rgba(60, 64, 67, 0.3), 0px 1px 3px 1px rgba(60, 64, 67, 0.15);\n",
              "      fill: #174EA6;\n",
              "    }\n",
              "\n",
              "    [theme=dark] .colab-df-convert {\n",
              "      background-color: #3B4455;\n",
              "      fill: #D2E3FC;\n",
              "    }\n",
              "\n",
              "    [theme=dark] .colab-df-convert:hover {\n",
              "      background-color: #434B5C;\n",
              "      box-shadow: 0px 1px 3px 1px rgba(0, 0, 0, 0.15);\n",
              "      filter: drop-shadow(0px 1px 2px rgba(0, 0, 0, 0.3));\n",
              "      fill: #FFFFFF;\n",
              "    }\n",
              "  </style>\n",
              "\n",
              "      <script>\n",
              "        const buttonEl =\n",
              "          document.querySelector('#df-1fedb869-d9d3-4aa5-b10f-30036cef44de button.colab-df-convert');\n",
              "        buttonEl.style.display =\n",
              "          google.colab.kernel.accessAllowed ? 'block' : 'none';\n",
              "\n",
              "        async function convertToInteractive(key) {\n",
              "          const element = document.querySelector('#df-1fedb869-d9d3-4aa5-b10f-30036cef44de');\n",
              "          const dataTable =\n",
              "            await google.colab.kernel.invokeFunction('convertToInteractive',\n",
              "                                                     [key], {});\n",
              "          if (!dataTable) return;\n",
              "\n",
              "          const docLinkHtml = 'Like what you see? Visit the ' +\n",
              "            '<a target=\"_blank\" href=https://colab.research.google.com/notebooks/data_table.ipynb>data table notebook</a>'\n",
              "            + ' to learn more about interactive tables.';\n",
              "          element.innerHTML = '';\n",
              "          dataTable['output_type'] = 'display_data';\n",
              "          await google.colab.output.renderOutput(dataTable, element);\n",
              "          const docLink = document.createElement('div');\n",
              "          docLink.innerHTML = docLinkHtml;\n",
              "          element.appendChild(docLink);\n",
              "        }\n",
              "      </script>\n",
              "    </div>\n",
              "  </div>\n",
              "  "
            ]
          },
          "metadata": {},
          "execution_count": 10
        }
      ]
    },
    {
      "cell_type": "markdown",
      "source": [
        "Since both bday and age attributes are missing, we can not fill any of them. As missings have just three person, we can search on Google them."
      ],
      "metadata": {
        "id": "z0zNA60EBlb3"
      }
    },
    {
      "cell_type": "code",
      "source": [
        "missing_index = [10,20,87]\n",
        "missing_bday = ['28-Sep-48','1-Dec-54','14-Sep-38']\n",
        "missing_age = [74,68,84]\n",
        "\n",
        "for index,value in enumerate(missing_index):\n",
        "    df.bday[value] = missing_bday[index]\n",
        "    df.age[value]= missing_age[index]"
      ],
      "metadata": {
        "id": "pQBBw-lqBX5k"
      },
      "execution_count": null,
      "outputs": []
    },
    {
      "cell_type": "code",
      "source": [
        "df[df.name=='Zhong Shanshan']"
      ],
      "metadata": {
        "colab": {
          "base_uri": "https://localhost:8080/",
          "height": 81
        },
        "id": "viQHhaRlB0Vg",
        "outputId": "d2359d4e-bdb2-4a99-c889-7f6ab9771164"
      },
      "execution_count": null,
      "outputs": [
        {
          "output_type": "execute_result",
          "data": {
            "text/plain": [
              "    rank            name    net_worth      bday   age nationality\n",
              "20    21  Zhong Shanshan  $68 Billion  1-Dec-54  68.0       China"
            ],
            "text/html": [
              "\n",
              "  <div id=\"df-74114eaa-ef31-408a-af62-14e30f9e5581\">\n",
              "    <div class=\"colab-df-container\">\n",
              "      <div>\n",
              "<style scoped>\n",
              "    .dataframe tbody tr th:only-of-type {\n",
              "        vertical-align: middle;\n",
              "    }\n",
              "\n",
              "    .dataframe tbody tr th {\n",
              "        vertical-align: top;\n",
              "    }\n",
              "\n",
              "    .dataframe thead th {\n",
              "        text-align: right;\n",
              "    }\n",
              "</style>\n",
              "<table border=\"1\" class=\"dataframe\">\n",
              "  <thead>\n",
              "    <tr style=\"text-align: right;\">\n",
              "      <th></th>\n",
              "      <th>rank</th>\n",
              "      <th>name</th>\n",
              "      <th>net_worth</th>\n",
              "      <th>bday</th>\n",
              "      <th>age</th>\n",
              "      <th>nationality</th>\n",
              "    </tr>\n",
              "  </thead>\n",
              "  <tbody>\n",
              "    <tr>\n",
              "      <th>20</th>\n",
              "      <td>21</td>\n",
              "      <td>Zhong Shanshan</td>\n",
              "      <td>$68 Billion</td>\n",
              "      <td>1-Dec-54</td>\n",
              "      <td>68.0</td>\n",
              "      <td>China</td>\n",
              "    </tr>\n",
              "  </tbody>\n",
              "</table>\n",
              "</div>\n",
              "      <button class=\"colab-df-convert\" onclick=\"convertToInteractive('df-74114eaa-ef31-408a-af62-14e30f9e5581')\"\n",
              "              title=\"Convert this dataframe to an interactive table.\"\n",
              "              style=\"display:none;\">\n",
              "        \n",
              "  <svg xmlns=\"http://www.w3.org/2000/svg\" height=\"24px\"viewBox=\"0 0 24 24\"\n",
              "       width=\"24px\">\n",
              "    <path d=\"M0 0h24v24H0V0z\" fill=\"none\"/>\n",
              "    <path d=\"M18.56 5.44l.94 2.06.94-2.06 2.06-.94-2.06-.94-.94-2.06-.94 2.06-2.06.94zm-11 1L8.5 8.5l.94-2.06 2.06-.94-2.06-.94L8.5 2.5l-.94 2.06-2.06.94zm10 10l.94 2.06.94-2.06 2.06-.94-2.06-.94-.94-2.06-.94 2.06-2.06.94z\"/><path d=\"M17.41 7.96l-1.37-1.37c-.4-.4-.92-.59-1.43-.59-.52 0-1.04.2-1.43.59L10.3 9.45l-7.72 7.72c-.78.78-.78 2.05 0 2.83L4 21.41c.39.39.9.59 1.41.59.51 0 1.02-.2 1.41-.59l7.78-7.78 2.81-2.81c.8-.78.8-2.07 0-2.86zM5.41 20L4 18.59l7.72-7.72 1.47 1.35L5.41 20z\"/>\n",
              "  </svg>\n",
              "      </button>\n",
              "      \n",
              "  <style>\n",
              "    .colab-df-container {\n",
              "      display:flex;\n",
              "      flex-wrap:wrap;\n",
              "      gap: 12px;\n",
              "    }\n",
              "\n",
              "    .colab-df-convert {\n",
              "      background-color: #E8F0FE;\n",
              "      border: none;\n",
              "      border-radius: 50%;\n",
              "      cursor: pointer;\n",
              "      display: none;\n",
              "      fill: #1967D2;\n",
              "      height: 32px;\n",
              "      padding: 0 0 0 0;\n",
              "      width: 32px;\n",
              "    }\n",
              "\n",
              "    .colab-df-convert:hover {\n",
              "      background-color: #E2EBFA;\n",
              "      box-shadow: 0px 1px 2px rgba(60, 64, 67, 0.3), 0px 1px 3px 1px rgba(60, 64, 67, 0.15);\n",
              "      fill: #174EA6;\n",
              "    }\n",
              "\n",
              "    [theme=dark] .colab-df-convert {\n",
              "      background-color: #3B4455;\n",
              "      fill: #D2E3FC;\n",
              "    }\n",
              "\n",
              "    [theme=dark] .colab-df-convert:hover {\n",
              "      background-color: #434B5C;\n",
              "      box-shadow: 0px 1px 3px 1px rgba(0, 0, 0, 0.15);\n",
              "      filter: drop-shadow(0px 1px 2px rgba(0, 0, 0, 0.3));\n",
              "      fill: #FFFFFF;\n",
              "    }\n",
              "  </style>\n",
              "\n",
              "      <script>\n",
              "        const buttonEl =\n",
              "          document.querySelector('#df-74114eaa-ef31-408a-af62-14e30f9e5581 button.colab-df-convert');\n",
              "        buttonEl.style.display =\n",
              "          google.colab.kernel.accessAllowed ? 'block' : 'none';\n",
              "\n",
              "        async function convertToInteractive(key) {\n",
              "          const element = document.querySelector('#df-74114eaa-ef31-408a-af62-14e30f9e5581');\n",
              "          const dataTable =\n",
              "            await google.colab.kernel.invokeFunction('convertToInteractive',\n",
              "                                                     [key], {});\n",
              "          if (!dataTable) return;\n",
              "\n",
              "          const docLinkHtml = 'Like what you see? Visit the ' +\n",
              "            '<a target=\"_blank\" href=https://colab.research.google.com/notebooks/data_table.ipynb>data table notebook</a>'\n",
              "            + ' to learn more about interactive tables.';\n",
              "          element.innerHTML = '';\n",
              "          dataTable['output_type'] = 'display_data';\n",
              "          await google.colab.output.renderOutput(dataTable, element);\n",
              "          const docLink = document.createElement('div');\n",
              "          docLink.innerHTML = docLinkHtml;\n",
              "          element.appendChild(docLink);\n",
              "        }\n",
              "      </script>\n",
              "    </div>\n",
              "  </div>\n",
              "  "
            ]
          },
          "metadata": {},
          "execution_count": 12
        }
      ]
    },
    {
      "cell_type": "markdown",
      "source": [
        "## **Exploratory Data Analysis (EDA)**\n",
        "* Nationality Distribution\n",
        "*  Year and Age Distribution\n",
        "*  Generation Distribution\n",
        "*  Month Distribution\n",
        "*  Day Distribution\n",
        "*  Word Length Distribution"
      ],
      "metadata": {
        "id": "0zeRx1oNCIaW"
      }
    },
    {
      "cell_type": "markdown",
      "source": [
        "## Nationality Distribution"
      ],
      "metadata": {
        "id": "Txcz51yvCoSa"
      }
    },
    {
      "cell_type": "code",
      "source": [
        "national_sizes = df.nationality.value_counts().tolist()\n",
        "national_labels = []\n",
        "none = [national_labels.append(i[0]) for i in df.nationality.value_counts().items()]"
      ],
      "metadata": {
        "id": "tkUw2BgFB-Ef"
      },
      "execution_count": null,
      "outputs": []
    },
    {
      "cell_type": "code",
      "source": [
        "plt.figure(figsize=(8,10))\n",
        "sns.barplot(x=national_sizes,y=national_labels)\n",
        "plt.xlabel('Count')\n",
        "plt.ylabel('National')\n",
        "plt.show()"
      ],
      "metadata": {
        "colab": {
          "base_uri": "https://localhost:8080/",
          "height": 606
        },
        "id": "O5rFGw1uC5Hr",
        "outputId": "fc2e5081-8d19-464b-c922-74b1e5b619e2"
      },
      "execution_count": null,
      "outputs": [
        {
          "output_type": "display_data",
          "data": {
            "text/plain": [
              "<Figure size 576x720 with 1 Axes>"
            ],
            "image/png": "[encoded data removed]"
          },
          "metadata": {
            "needs_background": "light"
          }
        }
      ]
    },
    {
      "cell_type": "code",
      "source": [
        "def pie_chart(sizes,labels,level):\n",
        "    \n",
        "    explode = [0.1]\n",
        "    for i in range(level):\n",
        "        explode.append(0)\n",
        "    explode = tuple(explode)\n",
        "    \n",
        "    fig1, ax1 = plt.subplots(figsize=(15, 8))\n",
        "    ax1.pie(sizes, \n",
        "            explode=explode,\n",
        "            labels=labels, \n",
        "            autopct='%1.1f%%',\n",
        "            shadow=True, \n",
        "            startangle=90)\n",
        "    ax1.axis('equal')  \n",
        "    plt.show()"
      ],
      "metadata": {
        "id": "H9VZ5j11C9pn"
      },
      "execution_count": null,
      "outputs": []
    },
    {
      "cell_type": "markdown",
      "source": [
        "## Top 10 Nationality"
      ],
      "metadata": {
        "id": "WuDBIq5RDaZ0"
      }
    },
    {
      "cell_type": "code",
      "source": [
        "pie_chart(national_sizes[:10],national_labels[:10],level=9)"
      ],
      "metadata": {
        "colab": {
          "base_uri": "https://localhost:8080/",
          "height": 471
        },
        "id": "SqHJbRaCDU3a",
        "outputId": "bda27300-769c-4e15-d120-ea0d85b62afc"
      },
      "execution_count": null,
      "outputs": [
        {
          "output_type": "display_data",
          "data": {
            "text/plain": [
              "<Figure size 1080x576 with 1 Axes>"
            ],
            "image/png": "[encoded data removed]"
          },
          "metadata": {}
        }
      ]
    },
    {
      "cell_type": "markdown",
      "source": [
        "## Age and Year Distribution"
      ],
      "metadata": {
        "id": "1T2WjEHoDuEh"
      }
    },
    {
      "cell_type": "code",
      "source": [
        "plt.figure(figsize=(8,4))\n",
        "sns.histplot(x=df.age)\n",
        "plt.show()"
      ],
      "metadata": {
        "colab": {
          "base_uri": "https://localhost:8080/",
          "height": 279
        },
        "id": "rsaWYkunDi0J",
        "outputId": "407e3028-ab22-414d-cb78-072a53aca4e4"
      },
      "execution_count": null,
      "outputs": [
        {
          "output_type": "display_data",
          "data": {
            "text/plain": [
              "<Figure size 576x288 with 1 Axes>"
            ],
            "image/png": "[encoded data removed]"
          },
          "metadata": {
            "needs_background": "light"
          }
        }
      ]
    },
    {
      "cell_type": "code",
      "source": [
        "df['generation']=['WWII'if i >94 \n",
        "                    else 'Post War' if i>76 \n",
        "                    else 'Boomers I' if i>67 \n",
        "                    else 'Boomers II' if i>57 \n",
        "                    else 'Gen X' if i>41 \n",
        "                    else 'Gen Y' for i in df.age]"
      ],
      "metadata": {
        "id": "j5BOQjeqD6w7"
      },
      "execution_count": null,
      "outputs": []
    },
    {
      "cell_type": "code",
      "source": [
        "gen_sizes = df.generation.value_counts().tolist()\n",
        "gen_labels = []\n",
        "none = [gen_labels.append(i[0]) for i in df.generation.value_counts().items()]"
      ],
      "metadata": {
        "id": "yjqIAHm_ERtm"
      },
      "execution_count": null,
      "outputs": []
    },
    {
      "cell_type": "code",
      "source": [
        "pie_chart(gen_sizes,gen_labels,5)"
      ],
      "metadata": {
        "colab": {
          "base_uri": "https://localhost:8080/",
          "height": 466
        },
        "id": "O4tzTVa_EcG9",
        "outputId": "e16a771c-9b11-4ebe-e1ea-16869a542463"
      },
      "execution_count": null,
      "outputs": [
        {
          "output_type": "display_data",
          "data": {
            "text/plain": [
              "<Figure size 1080x576 with 1 Axes>"
            ],
            "image/png": "[encoded data removed]"
          },
          "metadata": {}
        }
      ]
    },
    {
      "cell_type": "markdown",
      "source": [
        "## Month Distribution"
      ],
      "metadata": {
        "id": "r9F9sS9nREql"
      }
    },
    {
      "cell_type": "markdown",
      "source": [
        "* While we extract the months from \"bday\", got an error/exception.\n",
        "* We realised that three bussiness man have no birthday and month informations. Thus, we googled them, but did not find what we searched.\n",
        "\n"
      ],
      "metadata": {
        "id": "aoFsDw-rRI-R"
      }
    },
    {
      "cell_type": "code",
      "source": [
        "for index,value in enumerate(df.bday):\n",
        "    if type(value)!=str:\n",
        "        df.bday[index]='1-Jan-'+str(value)[2:4]"
      ],
      "metadata": {
        "id": "QXf-MZUuEg2U"
      },
      "execution_count": null,
      "outputs": []
    },
    {
      "cell_type": "code",
      "source": [
        "day_list, month_list = [],[]\n",
        "\n",
        "for i in df.bday:\n",
        "    month_list.append(i[3:6]) if len(i) == 9 else month_list.append(i[2:5])\n",
        "    day_list.append(i[0:2]) if len(i) == 9 else day_list.append(i[0:1])\n",
        "\n",
        "df['month']=pd.DataFrame(month_list)\n",
        "df['day']=pd.DataFrame(day_list)"
      ],
      "metadata": {
        "id": "5zHxKKkSRf00"
      },
      "execution_count": null,
      "outputs": []
    },
    {
      "cell_type": "code",
      "source": [
        "df_copy = df.copy()"
      ],
      "metadata": {
        "id": "ajrH2Ay3RqUk"
      },
      "execution_count": null,
      "outputs": []
    },
    {
      "cell_type": "code",
      "source": [
        "df_copy['month_sort']=['(A)-Jan' if i=='Jan' \n",
        "                    else '(B)-Feb' if i=='Feb' \n",
        "                    else '(C)-Mar' if i=='Mar' \n",
        "                    else '(D)-Apr' if i=='Apr' \n",
        "                    else '(E)-May' if i=='May' \n",
        "                    else '(F)-Jun' if i=='Jun' \n",
        "                    else '(G)-Jul' if i=='Jul' \n",
        "                    else '(H)-Aug' if i=='Aug' \n",
        "                    else '(I)-Sep' if i=='Sep' \n",
        "                    else '(J)-Oct' if i=='Oct' \n",
        "                    else '(K)-Nov' if i=='Nov'\n",
        "                    else '(L)-Dec' for i in df.month]"
      ],
      "metadata": {
        "id": "1YLnFGhrRw5k"
      },
      "execution_count": null,
      "outputs": []
    },
    {
      "cell_type": "code",
      "source": [
        "df_copy = df_copy.sort_values(by=['month_sort'],ascending=True)"
      ],
      "metadata": {
        "id": "v8-UwcVER5JL"
      },
      "execution_count": null,
      "outputs": []
    },
    {
      "cell_type": "code",
      "source": [
        "df.head()"
      ],
      "metadata": {
        "colab": {
          "base_uri": "https://localhost:8080/",
          "height": 206
        },
        "id": "Kq9UgWRYR_ZY",
        "outputId": "c634c2a4-d439-44a6-d080-8bcc26577646"
      },
      "execution_count": null,
      "outputs": [
        {
          "output_type": "execute_result",
          "data": {
            "text/plain": [
              "   rank             name     net_worth       bday   age  \\\n",
              "0     1        Elon Musk  $240 Billion  28-Jun-71  51.0   \n",
              "1     2       Jeff Bezos  $150 Billion  12-Jan-64  58.0   \n",
              "2     3     Gautam Adani  $138 Billion  24-Jun-62  60.0   \n",
              "3     4  Bernard Arnault  $135 Billion   5-Mar-49  73.0   \n",
              "4     5       Bill Gates  $118 Billion  28-Oct-55  66.0   \n",
              "\n",
              "                nationality month day  \n",
              "0              South Africa   Jun  28  \n",
              "1  United States of America   Jan  12  \n",
              "2                     India   Jun  24  \n",
              "3                    France   Mar   5  \n",
              "4  United States of America   Oct  28  "
            ],
            "text/html": [
              "\n",
              "  <div id=\"df-025764cf-9eb3-4265-a56e-8233170d0070\">\n",
              "    <div class=\"colab-df-container\">\n",
              "      <div>\n",
              "<style scoped>\n",
              "    .dataframe tbody tr th:only-of-type {\n",
              "        vertical-align: middle;\n",
              "    }\n",
              "\n",
              "    .dataframe tbody tr th {\n",
              "        vertical-align: top;\n",
              "    }\n",
              "\n",
              "    .dataframe thead th {\n",
              "        text-align: right;\n",
              "    }\n",
              "</style>\n",
              "<table border=\"1\" class=\"dataframe\">\n",
              "  <thead>\n",
              "    <tr style=\"text-align: right;\">\n",
              "      <th></th>\n",
              "      <th>rank</th>\n",
              "      <th>name</th>\n",
              "      <th>net_worth</th>\n",
              "      <th>bday</th>\n",
              "      <th>age</th>\n",
              "      <th>nationality</th>\n",
              "      <th>month</th>\n",
              "      <th>day</th>\n",
              "    </tr>\n",
              "  </thead>\n",
              "  <tbody>\n",
              "    <tr>\n",
              "      <th>0</th>\n",
              "      <td>1</td>\n",
              "      <td>Elon Musk</td>\n",
              "      <td>$240 Billion</td>\n",
              "      <td>28-Jun-71</td>\n",
              "      <td>51.0</td>\n",
              "      <td>South Africa</td>\n",
              "      <td>Jun</td>\n",
              "      <td>28</td>\n",
              "    </tr>\n",
              "    <tr>\n",
              "      <th>1</th>\n",
              "      <td>2</td>\n",
              "      <td>Jeff Bezos</td>\n",
              "      <td>$150 Billion</td>\n",
              "      <td>12-Jan-64</td>\n",
              "      <td>58.0</td>\n",
              "      <td>United States of America</td>\n",
              "      <td>Jan</td>\n",
              "      <td>12</td>\n",
              "    </tr>\n",
              "    <tr>\n",
              "      <th>2</th>\n",
              "      <td>3</td>\n",
              "      <td>Gautam Adani</td>\n",
              "      <td>$138 Billion</td>\n",
              "      <td>24-Jun-62</td>\n",
              "      <td>60.0</td>\n",
              "      <td>India</td>\n",
              "      <td>Jun</td>\n",
              "      <td>24</td>\n",
              "    </tr>\n",
              "    <tr>\n",
              "      <th>3</th>\n",
              "      <td>4</td>\n",
              "      <td>Bernard Arnault</td>\n",
              "      <td>$135 Billion</td>\n",
              "      <td>5-Mar-49</td>\n",
              "      <td>73.0</td>\n",
              "      <td>France</td>\n",
              "      <td>Mar</td>\n",
              "      <td>5</td>\n",
              "    </tr>\n",
              "    <tr>\n",
              "      <th>4</th>\n",
              "      <td>5</td>\n",
              "      <td>Bill Gates</td>\n",
              "      <td>$118 Billion</td>\n",
              "      <td>28-Oct-55</td>\n",
              "      <td>66.0</td>\n",
              "      <td>United States of America</td>\n",
              "      <td>Oct</td>\n",
              "      <td>28</td>\n",
              "    </tr>\n",
              "  </tbody>\n",
              "</table>\n",
              "</div>\n",
              "      <button class=\"colab-df-convert\" onclick=\"convertToInteractive('df-025764cf-9eb3-4265-a56e-8233170d0070')\"\n",
              "              title=\"Convert this dataframe to an interactive table.\"\n",
              "              style=\"display:none;\">\n",
              "        \n",
              "  <svg xmlns=\"http://www.w3.org/2000/svg\" height=\"24px\"viewBox=\"0 0 24 24\"\n",
              "       width=\"24px\">\n",
              "    <path d=\"M0 0h24v24H0V0z\" fill=\"none\"/>\n",
              "    <path d=\"M18.56 5.44l.94 2.06.94-2.06 2.06-.94-2.06-.94-.94-2.06-.94 2.06-2.06.94zm-11 1L8.5 8.5l.94-2.06 2.06-.94-2.06-.94L8.5 2.5l-.94 2.06-2.06.94zm10 10l.94 2.06.94-2.06 2.06-.94-2.06-.94-.94-2.06-.94 2.06-2.06.94z\"/><path d=\"M17.41 7.96l-1.37-1.37c-.4-.4-.92-.59-1.43-.59-.52 0-1.04.2-1.43.59L10.3 9.45l-7.72 7.72c-.78.78-.78 2.05 0 2.83L4 21.41c.39.39.9.59 1.41.59.51 0 1.02-.2 1.41-.59l7.78-7.78 2.81-2.81c.8-.78.8-2.07 0-2.86zM5.41 20L4 18.59l7.72-7.72 1.47 1.35L5.41 20z\"/>\n",
              "  </svg>\n",
              "      </button>\n",
              "      \n",
              "  <style>\n",
              "    .colab-df-container {\n",
              "      display:flex;\n",
              "      flex-wrap:wrap;\n",
              "      gap: 12px;\n",
              "    }\n",
              "\n",
              "    .colab-df-convert {\n",
              "      background-color: #E8F0FE;\n",
              "      border: none;\n",
              "      border-radius: 50%;\n",
              "      cursor: pointer;\n",
              "      display: none;\n",
              "      fill: #1967D2;\n",
              "      height: 32px;\n",
              "      padding: 0 0 0 0;\n",
              "      width: 32px;\n",
              "    }\n",
              "\n",
              "    .colab-df-convert:hover {\n",
              "      background-color: #E2EBFA;\n",
              "      box-shadow: 0px 1px 2px rgba(60, 64, 67, 0.3), 0px 1px 3px 1px rgba(60, 64, 67, 0.15);\n",
              "      fill: #174EA6;\n",
              "    }\n",
              "\n",
              "    [theme=dark] .colab-df-convert {\n",
              "      background-color: #3B4455;\n",
              "      fill: #D2E3FC;\n",
              "    }\n",
              "\n",
              "    [theme=dark] .colab-df-convert:hover {\n",
              "      background-color: #434B5C;\n",
              "      box-shadow: 0px 1px 3px 1px rgba(0, 0, 0, 0.15);\n",
              "      filter: drop-shadow(0px 1px 2px rgba(0, 0, 0, 0.3));\n",
              "      fill: #FFFFFF;\n",
              "    }\n",
              "  </style>\n",
              "\n",
              "      <script>\n",
              "        const buttonEl =\n",
              "          document.querySelector('#df-025764cf-9eb3-4265-a56e-8233170d0070 button.colab-df-convert');\n",
              "        buttonEl.style.display =\n",
              "          google.colab.kernel.accessAllowed ? 'block' : 'none';\n",
              "\n",
              "        async function convertToInteractive(key) {\n",
              "          const element = document.querySelector('#df-025764cf-9eb3-4265-a56e-8233170d0070');\n",
              "          const dataTable =\n",
              "            await google.colab.kernel.invokeFunction('convertToInteractive',\n",
              "                                                     [key], {});\n",
              "          if (!dataTable) return;\n",
              "\n",
              "          const docLinkHtml = 'Like what you see? Visit the ' +\n",
              "            '<a target=\"_blank\" href=https://colab.research.google.com/notebooks/data_table.ipynb>data table notebook</a>'\n",
              "            + ' to learn more about interactive tables.';\n",
              "          element.innerHTML = '';\n",
              "          dataTable['output_type'] = 'display_data';\n",
              "          await google.colab.output.renderOutput(dataTable, element);\n",
              "          const docLink = document.createElement('div');\n",
              "          docLink.innerHTML = docLinkHtml;\n",
              "          element.appendChild(docLink);\n",
              "        }\n",
              "      </script>\n",
              "    </div>\n",
              "  </div>\n",
              "  "
            ]
          },
          "metadata": {},
          "execution_count": 30
        }
      ]
    },
    {
      "cell_type": "code",
      "source": [
        "month_sizes = df_copy.month_sort.value_counts(sort=False).tolist()\n",
        "month_labels = []\n",
        "none = [month_labels.append(i[0]) for i in df_copy.month_sort.value_counts(sort=False).items()]"
      ],
      "metadata": {
        "id": "shmE0plsSEz_"
      },
      "execution_count": null,
      "outputs": []
    },
    {
      "cell_type": "code",
      "source": [
        "def bar_plot(sizes,labels,title):\n",
        "    fig, ax = plt.subplots(figsize=(14, 4))\n",
        "\n",
        "    #plt.xticks(rotation=90)\n",
        "    ax.bar(labels, sizes)\n",
        "\n",
        "    ax.set_ylabel('Count')\n",
        "    ax.set_title(title)\n",
        "\n",
        "    plt.show()"
      ],
      "metadata": {
        "id": "cNhVXoTZSPKP"
      },
      "execution_count": null,
      "outputs": []
    },
    {
      "cell_type": "code",
      "source": [
        "#month_labels = ['Jan','Feb','Mar','Apr','May','Jun','Jul','Aug','Sep','Oct','Nov','Dec']\n",
        "bar_plot(month_sizes,month_labels,'month')"
      ],
      "metadata": {
        "colab": {
          "base_uri": "https://localhost:8080/",
          "height": 281
        },
        "id": "jxMNvH9GSVCQ",
        "outputId": "15e571d6-e421-4ad7-c479-a6273a8ccab2"
      },
      "execution_count": null,
      "outputs": [
        {
          "output_type": "display_data",
          "data": {
            "text/plain": [
              "<Figure size 1008x288 with 1 Axes>"
            ],
            "image/png": "[encoded data removed]"
          },
          "metadata": {
            "needs_background": "light"
          }
        }
      ]
    },
    {
      "cell_type": "markdown",
      "source": [
        "* If you were born in January, April, or October, you can be a billionare.\n",
        "* But we can not the same for November and December children. The probability to be billionare is less likely for them."
      ],
      "metadata": {
        "id": "Kg_Xp7m2Sgmz"
      }
    },
    {
      "cell_type": "markdown",
      "source": [
        "## Top 25 Richest- Month of Birth"
      ],
      "metadata": {
        "id": "BD--z9vYSmoB"
      }
    },
    {
      "cell_type": "code",
      "source": [
        "month_sizes = df.month.value_counts(sort=True).tolist()\n",
        "month_labels = []\n",
        "none = [month_labels.append(i[0]) for i in df.month.value_counts(sort=True).items()]"
      ],
      "metadata": {
        "id": "XPqm-qcmSa0b"
      },
      "execution_count": null,
      "outputs": []
    },
    {
      "cell_type": "code",
      "source": [
        "pie_chart(month_sizes,month_labels,11)"
      ],
      "metadata": {
        "colab": {
          "base_uri": "https://localhost:8080/",
          "height": 466
        },
        "id": "ugz668MBTEUH",
        "outputId": "1db009eb-f8f4-472b-c7d2-b16fcf86d7b5"
      },
      "execution_count": null,
      "outputs": [
        {
          "output_type": "display_data",
          "data": {
            "text/plain": [
              "<Figure size 1080x576 with 1 Axes>"
            ],
            "image/png": "[encoded data removed]"
          },
          "metadata": {}
        }
      ]
    },
    {
      "cell_type": "markdown",
      "source": [
        "## Day Distribution "
      ],
      "metadata": {
        "id": "SHRcEZ-hTPd5"
      }
    },
    {
      "cell_type": "code",
      "source": [
        "df.head()"
      ],
      "metadata": {
        "colab": {
          "base_uri": "https://localhost:8080/",
          "height": 206
        },
        "id": "3qWN7W16TIXd",
        "outputId": "f45d00cf-75cc-46aa-cf29-fdbfcc415fda"
      },
      "execution_count": null,
      "outputs": [
        {
          "output_type": "execute_result",
          "data": {
            "text/plain": [
              "   rank             name     net_worth       bday   age  \\\n",
              "0     1        Elon Musk  $240 Billion  28-Jun-71  51.0   \n",
              "1     2       Jeff Bezos  $150 Billion  12-Jan-64  58.0   \n",
              "2     3     Gautam Adani  $138 Billion  24-Jun-62  60.0   \n",
              "3     4  Bernard Arnault  $135 Billion   5-Mar-49  73.0   \n",
              "4     5       Bill Gates  $118 Billion  28-Oct-55  66.0   \n",
              "\n",
              "                nationality month day  \n",
              "0              South Africa   Jun  28  \n",
              "1  United States of America   Jan  12  \n",
              "2                     India   Jun  24  \n",
              "3                    France   Mar   5  \n",
              "4  United States of America   Oct  28  "
            ],
            "text/html": [
              "\n",
              "  <div id=\"df-78d4aafe-d52f-443b-ad8b-cde9aa3737d1\">\n",
              "    <div class=\"colab-df-container\">\n",
              "      <div>\n",
              "<style scoped>\n",
              "    .dataframe tbody tr th:only-of-type {\n",
              "        vertical-align: middle;\n",
              "    }\n",
              "\n",
              "    .dataframe tbody tr th {\n",
              "        vertical-align: top;\n",
              "    }\n",
              "\n",
              "    .dataframe thead th {\n",
              "        text-align: right;\n",
              "    }\n",
              "</style>\n",
              "<table border=\"1\" class=\"dataframe\">\n",
              "  <thead>\n",
              "    <tr style=\"text-align: right;\">\n",
              "      <th></th>\n",
              "      <th>rank</th>\n",
              "      <th>name</th>\n",
              "      <th>net_worth</th>\n",
              "      <th>bday</th>\n",
              "      <th>age</th>\n",
              "      <th>nationality</th>\n",
              "      <th>month</th>\n",
              "      <th>day</th>\n",
              "    </tr>\n",
              "  </thead>\n",
              "  <tbody>\n",
              "    <tr>\n",
              "      <th>0</th>\n",
              "      <td>1</td>\n",
              "      <td>Elon Musk</td>\n",
              "      <td>$240 Billion</td>\n",
              "      <td>28-Jun-71</td>\n",
              "      <td>51.0</td>\n",
              "      <td>South Africa</td>\n",
              "      <td>Jun</td>\n",
              "      <td>28</td>\n",
              "    </tr>\n",
              "    <tr>\n",
              "      <th>1</th>\n",
              "      <td>2</td>\n",
              "      <td>Jeff Bezos</td>\n",
              "      <td>$150 Billion</td>\n",
              "      <td>12-Jan-64</td>\n",
              "      <td>58.0</td>\n",
              "      <td>United States of America</td>\n",
              "      <td>Jan</td>\n",
              "      <td>12</td>\n",
              "    </tr>\n",
              "    <tr>\n",
              "      <th>2</th>\n",
              "      <td>3</td>\n",
              "      <td>Gautam Adani</td>\n",
              "      <td>$138 Billion</td>\n",
              "      <td>24-Jun-62</td>\n",
              "      <td>60.0</td>\n",
              "      <td>India</td>\n",
              "      <td>Jun</td>\n",
              "      <td>24</td>\n",
              "    </tr>\n",
              "    <tr>\n",
              "      <th>3</th>\n",
              "      <td>4</td>\n",
              "      <td>Bernard Arnault</td>\n",
              "      <td>$135 Billion</td>\n",
              "      <td>5-Mar-49</td>\n",
              "      <td>73.0</td>\n",
              "      <td>France</td>\n",
              "      <td>Mar</td>\n",
              "      <td>5</td>\n",
              "    </tr>\n",
              "    <tr>\n",
              "      <th>4</th>\n",
              "      <td>5</td>\n",
              "      <td>Bill Gates</td>\n",
              "      <td>$118 Billion</td>\n",
              "      <td>28-Oct-55</td>\n",
              "      <td>66.0</td>\n",
              "      <td>United States of America</td>\n",
              "      <td>Oct</td>\n",
              "      <td>28</td>\n",
              "    </tr>\n",
              "  </tbody>\n",
              "</table>\n",
              "</div>\n",
              "      <button class=\"colab-df-convert\" onclick=\"convertToInteractive('df-78d4aafe-d52f-443b-ad8b-cde9aa3737d1')\"\n",
              "              title=\"Convert this dataframe to an interactive table.\"\n",
              "              style=\"display:none;\">\n",
              "        \n",
              "  <svg xmlns=\"http://www.w3.org/2000/svg\" height=\"24px\"viewBox=\"0 0 24 24\"\n",
              "       width=\"24px\">\n",
              "    <path d=\"M0 0h24v24H0V0z\" fill=\"none\"/>\n",
              "    <path d=\"M18.56 5.44l.94 2.06.94-2.06 2.06-.94-2.06-.94-.94-2.06-.94 2.06-2.06.94zm-11 1L8.5 8.5l.94-2.06 2.06-.94-2.06-.94L8.5 2.5l-.94 2.06-2.06.94zm10 10l.94 2.06.94-2.06 2.06-.94-2.06-.94-.94-2.06-.94 2.06-2.06.94z\"/><path d=\"M17.41 7.96l-1.37-1.37c-.4-.4-.92-.59-1.43-.59-.52 0-1.04.2-1.43.59L10.3 9.45l-7.72 7.72c-.78.78-.78 2.05 0 2.83L4 21.41c.39.39.9.59 1.41.59.51 0 1.02-.2 1.41-.59l7.78-7.78 2.81-2.81c.8-.78.8-2.07 0-2.86zM5.41 20L4 18.59l7.72-7.72 1.47 1.35L5.41 20z\"/>\n",
              "  </svg>\n",
              "      </button>\n",
              "      \n",
              "  <style>\n",
              "    .colab-df-container {\n",
              "      display:flex;\n",
              "      flex-wrap:wrap;\n",
              "      gap: 12px;\n",
              "    }\n",
              "\n",
              "    .colab-df-convert {\n",
              "      background-color: #E8F0FE;\n",
              "      border: none;\n",
              "      border-radius: 50%;\n",
              "      cursor: pointer;\n",
              "      display: none;\n",
              "      fill: #1967D2;\n",
              "      height: 32px;\n",
              "      padding: 0 0 0 0;\n",
              "      width: 32px;\n",
              "    }\n",
              "\n",
              "    .colab-df-convert:hover {\n",
              "      background-color: #E2EBFA;\n",
              "      box-shadow: 0px 1px 2px rgba(60, 64, 67, 0.3), 0px 1px 3px 1px rgba(60, 64, 67, 0.15);\n",
              "      fill: #174EA6;\n",
              "    }\n",
              "\n",
              "    [theme=dark] .colab-df-convert {\n",
              "      background-color: #3B4455;\n",
              "      fill: #D2E3FC;\n",
              "    }\n",
              "\n",
              "    [theme=dark] .colab-df-convert:hover {\n",
              "      background-color: #434B5C;\n",
              "      box-shadow: 0px 1px 3px 1px rgba(0, 0, 0, 0.15);\n",
              "      filter: drop-shadow(0px 1px 2px rgba(0, 0, 0, 0.3));\n",
              "      fill: #FFFFFF;\n",
              "    }\n",
              "  </style>\n",
              "\n",
              "      <script>\n",
              "        const buttonEl =\n",
              "          document.querySelector('#df-78d4aafe-d52f-443b-ad8b-cde9aa3737d1 button.colab-df-convert');\n",
              "        buttonEl.style.display =\n",
              "          google.colab.kernel.accessAllowed ? 'block' : 'none';\n",
              "\n",
              "        async function convertToInteractive(key) {\n",
              "          const element = document.querySelector('#df-78d4aafe-d52f-443b-ad8b-cde9aa3737d1');\n",
              "          const dataTable =\n",
              "            await google.colab.kernel.invokeFunction('convertToInteractive',\n",
              "                                                     [key], {});\n",
              "          if (!dataTable) return;\n",
              "\n",
              "          const docLinkHtml = 'Like what you see? Visit the ' +\n",
              "            '<a target=\"_blank\" href=https://colab.research.google.com/notebooks/data_table.ipynb>data table notebook</a>'\n",
              "            + ' to learn more about interactive tables.';\n",
              "          element.innerHTML = '';\n",
              "          dataTable['output_type'] = 'display_data';\n",
              "          await google.colab.output.renderOutput(dataTable, element);\n",
              "          const docLink = document.createElement('div');\n",
              "          docLink.innerHTML = docLinkHtml;\n",
              "          element.appendChild(docLink);\n",
              "        }\n",
              "      </script>\n",
              "    </div>\n",
              "  </div>\n",
              "  "
            ]
          },
          "metadata": {},
          "execution_count": 36
        }
      ]
    },
    {
      "cell_type": "code",
      "source": [
        "day_sizes = df.day.value_counts(sort=True).tolist()\n",
        "day_labels = []\n",
        "none = [day_labels.append(i[0]) for i in df.day.value_counts(sort=True).items()]"
      ],
      "metadata": {
        "id": "fdHXITuLTWHF"
      },
      "execution_count": null,
      "outputs": []
    },
    {
      "cell_type": "code",
      "source": [
        "bar_plot(day_sizes,day_labels,'day')"
      ],
      "metadata": {
        "colab": {
          "base_uri": "https://localhost:8080/",
          "height": 281
        },
        "id": "GWIAKx8qTYt2",
        "outputId": "d127613e-3a05-4f28-ad7e-96f4a9237573"
      },
      "execution_count": null,
      "outputs": [
        {
          "output_type": "display_data",
          "data": {
            "text/plain": [
              "<Figure size 1008x288 with 1 Axes>"
            ],
            "image/png": "[encoded data removed]"
          },
          "metadata": {
            "needs_background": "light"
          }
        }
      ]
    },
    {
      "cell_type": "markdown",
      "source": [
        "## Letter and Word Distribution"
      ],
      "metadata": {
        "id": "Q40bnS5RTrEr"
      }
    },
    {
      "cell_type": "code",
      "source": [
        "df['length'] = [len(i) for i in df.name]"
      ],
      "metadata": {
        "id": "dy5j6wSbTpFX"
      },
      "execution_count": null,
      "outputs": []
    },
    {
      "cell_type": "code",
      "source": [
        "sns.histplot(data=df,x='length',kde=True)\n",
        "plt.show()"
      ],
      "metadata": {
        "colab": {
          "base_uri": "https://localhost:8080/",
          "height": 279
        },
        "id": "ATCmsR59T3AA",
        "outputId": "801cfbda-1f9d-400c-f845-f7524a0d0aca"
      },
      "execution_count": null,
      "outputs": [
        {
          "output_type": "display_data",
          "data": {
            "text/plain": [
              "<Figure size 432x288 with 1 Axes>"
            ],
            "image/png": "[encoded data removed]"
          },
          "metadata": {
            "needs_background": "light"
          }
        }
      ]
    },
    {
      "cell_type": "markdown",
      "source": [
        "## Bonus"
      ],
      "metadata": {
        "id": "a1noRRA1UK9t"
      }
    },
    {
      "cell_type": "code",
      "source": [
        "worth_list = []\n",
        "\n",
        "for i in df.net_worth:\n",
        "    worth_list.append(int(i[1:4])) if len(i) == 12 else worth_list.append(int(i[1:3]))\n",
        "    \n",
        "df['worth']=pd.DataFrame(worth_list)"
      ],
      "metadata": {
        "id": "w0VDHu9UUDou"
      },
      "execution_count": null,
      "outputs": []
    },
    {
      "cell_type": "code",
      "source": [
        "TOTAL_WORTH = df.worth.sum()"
      ],
      "metadata": {
        "id": "JozfmpREUUJB"
      },
      "execution_count": null,
      "outputs": []
    },
    {
      "cell_type": "code",
      "source": [
        "TOTAL_WORTH "
      ],
      "metadata": {
        "colab": {
          "base_uri": "https://localhost:8080/"
        },
        "id": "49OLyhMDUtML",
        "outputId": "aeb3e483-9a7b-47b4-9e18-6439e4f01879"
      },
      "execution_count": null,
      "outputs": [
        {
          "output_type": "execute_result",
          "data": {
            "text/plain": [
              "4269"
            ]
          },
          "metadata": {},
          "execution_count": 46
        }
      ]
    },
    {
      "cell_type": "markdown",
      "source": [
        "##Total Worth is 4.269 Billion Dollar"
      ],
      "metadata": {
        "id": "JQI2Dp4HU4gS"
      }
    },
    {
      "cell_type": "code",
      "source": [
        "money = [8000000000,4269000000000]\n",
        "label = ['poor','rich']\n",
        "\n",
        "\n",
        "pie_chart(money,label,1)"
      ],
      "metadata": {
        "colab": {
          "base_uri": "https://localhost:8080/",
          "height": 474
        },
        "id": "WMD4rXoIU0W0",
        "outputId": "28e6958f-cd72-425b-c0c2-4fb1a687d3d1"
      },
      "execution_count": null,
      "outputs": [
        {
          "output_type": "display_data",
          "data": {
            "text/plain": [
              "<Figure size 1080x576 with 1 Axes>"
            ],
            "image/png": "[encoded data removed]"
          },
          "metadata": {}
        }
      ]
    },
    {
      "cell_type": "markdown",
      "source": [
        "World poverty problem can be solved with 2 per thousand of this money"
      ],
      "metadata": {
        "id": "W_d29V5LVcq0"
      }
    },
    {
      "cell_type": "markdown",
      "source": [
        "## References"
      ],
      "metadata": {
        "id": "esp-pvbrVvH3"
      }
    },
    {
      "cell_type": "markdown",
      "source": [
        "* Ref-1 | Birthday of Alain Wertheimer : September, 28th, 1948 (https://www.bloomberg.com/billionaires/profiles/alain-e-wertheimer/).\n",
        "* Ref-2 | Birthday of Gerrard Wertheimer : November, 11th, 1951 (https://www.bloomberg.com/billionaires/profiles/gerard-p-wertheimer/).\n",
        "* Ref-3 | Birthday of Zhong Shanshan : December, 1st, 1954 (https://www.bloomberg.com/billionaires/profiles/shanshan-zhong/).\n",
        "* Ref-4 | Birthday of David Reuben : September, 14th, 1938 (https://www.bloomberg.com/billionaires/profiles/david-reuben/).\n",
        "* Ref-5 | Birthday of Simon Reuben : May, 5th, 1941 (https://www.bloomberg.com/billionaires/profiles/simon-reuben/).\n",
        "* Ref-6 | Generations : WWII, Post War, Boomers I, Boomers II, Gen X, Gen Y (https://www.beresfordresearch.com/age-range-by-generation/)."
      ],
      "metadata": {
        "id": "c6nfY8LmV0yo"
      }
    },
    {
      "cell_type": "code",
      "source": [],
      "metadata": {
        "id": "ZEBuUhOgVf_N"
      },
      "execution_count": null,
      "outputs": []
    }
  ]
}